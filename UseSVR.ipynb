{
 "cells": [
  {
   "cell_type": "code",
   "execution_count": 2,
   "metadata": {},
   "outputs": [],
   "source": [
    "import pandas as pd\n",
    "import numpy as np\n",
    "from sklearn.svm import SVR\n",
    "from sklearn.cross_validation import train_test_split\n",
    "from sklearn.metrics import mean_squared_error\n",
    "from math import sqrt"
   ]
  },
  {
   "cell_type": "code",
   "execution_count": 51,
   "metadata": {},
   "outputs": [],
   "source": [
    "def UseSVR(X_train, y_train, X_test, y_test):\n",
    "    for i in X_train.columns:\n",
    "        X_train[i] = (X_train[i]-X_train[i].mean())/X_train[i].std()\n",
    "    X_test = (X_test-X_test.mean())/X_test.std()\n",
    "    svr = SVR(kernel='linear')\n",
    "    svr.fit(X_train, y_train)\n",
    "    train_pred_SVR = svr.predict(X_train)\n",
    "    test_pred_SVR = svr.predict(X_test)\n",
    "    \n",
    "    train_err = sqrt(mean_squared_error(train_pred_SVR, y_train))\n",
    "    test_err = sqrt(mean_squared_error(test_pred_SVR, y_test))\n",
    "    print(\"The train error is: \", str(train_err))\n",
    "    print(\"The test error is: \", str(test_err))\n",
    "    return train_pred_SVR, test_pred_SVR"
   ]
  }
 ],
 "metadata": {
  "kernelspec": {
   "display_name": "Python 3",
   "language": "python",
   "name": "python3"
  },
  "language_info": {
   "codemirror_mode": {
    "name": "ipython",
    "version": 3
   },
   "file_extension": ".py",
   "mimetype": "text/x-python",
   "name": "python",
   "nbconvert_exporter": "python",
   "pygments_lexer": "ipython3",
   "version": "3.6.5"
  }
 },
 "nbformat": 4,
 "nbformat_minor": 2
}
