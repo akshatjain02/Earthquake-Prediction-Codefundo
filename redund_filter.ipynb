{
 "cells": [
  {
   "cell_type": "code",
   "execution_count": 4,
   "metadata": {},
   "outputs": [],
   "source": [
    "import pandas as pd\n",
    "import numpy as np"
   ]
  },
  {
   "cell_type": "code",
   "execution_count": 111,
   "metadata": {},
   "outputs": [],
   "source": [
    "def redundant_filter(Data):\n",
    "    L=Data.shape[0]\n",
    "    RC=np.zeros((1,(Data.shape[1]-1)))\n",
    "    first=np.zeros((1,(Data.shape[1]-1)))\n",
    "    second=np.zeros((1,(Data.shape[1]-1)))\n",
    "    cols=[]\n",
    "    for i in range(Data.shape[1]-1):\n",
    "        first_var=Data.iloc[:,i]\n",
    "        first_norm=((first_var-first_var.min())/(first_var.max()-first_var.min()))\n",
    "        med=first_norm.median()\n",
    "        first_norm_bins=(first_norm>med).astype(int)\n",
    "        for j in range((i+1),(Data.shape[1]-1)):\n",
    "            sec_var=Data.iloc[:,j]\n",
    "            sec_norm=((sec_var-sec_var.min())/(sec_var.max()-sec_var.min()))\n",
    "            med=sec_norm.median()\n",
    "            sec_norm_bins=(sec_norm>med).astype(int)\n",
    "            U=2*sec_norm_bins+first_norm_bins\n",
    "            U0 = U[U==0].shape[0]\n",
    "            U1 = U[U==1].shape[0]\n",
    "            U2 = U[U==2].shape[0]\n",
    "            U3 = U[U==3].shape[0]\n",
    "            \n",
    "            p_first_0=(U0+U2)/L\n",
    "            p_first_1=(U1+U3)/L\n",
    "            p_sec_0=(U0+U1)/L\n",
    "            p_sec_1=(U2+U3)/L\n",
    "\n",
    "            p_first0_sec0=U0/L\n",
    "            p_first0_sec1=U2/L\n",
    "            p_first1_sec0=U1/L\n",
    "            p_first1_sec1=U3/L\n",
    "            try:\n",
    "                Mut_Inf_temp=p_first0_sec0*np.log2(p_first0_sec0/(p_first_0*p_sec_0))+p_first1_sec0*np.log2(p_first1_sec0/(p_first_1*p_sec_0))+p_first0_sec1*np.log2(p_first0_sec1/(p_first_0*p_sec_1))+p_first1_sec1*np.log2(p_first1_sec1/(p_first_1*p_sec_1))\n",
    "            except ZeroDivisionError:\n",
    "                Mut_Inf_temp=np.nan\n",
    "            if np.isnan(Mut_Inf_temp)==True:\n",
    "                Mut_Inf_temp=0\n",
    "            if Mut_Inf_temp>RC[0, i]:\n",
    "                RC[0, i]=Mut_Inf_temp\n",
    "                first[0, i]=i\n",
    "                second[0, i]=j\n",
    "        if RC[0, i]>0.2:\n",
    "            if MI[(first[0, i]).astype(int)]>MI[(second[0, i]).astype(int)]:\n",
    "                drop_ind=second[0, i]\n",
    "            else:\n",
    "                drop_ind=first[0, i]\n",
    "        cols.append(Data.columns[drop_ind.astype(int)])\n",
    "    cols = list(set(cols))\n",
    "    return cols, RC"
   ]
  }
 ],
 "metadata": {
  "kernelspec": {
   "display_name": "Python 3",
   "language": "python",
   "name": "python3"
  },
  "language_info": {
   "codemirror_mode": {
    "name": "ipython",
    "version": 3
   },
   "file_extension": ".py",
   "mimetype": "text/x-python",
   "name": "python",
   "nbconvert_exporter": "python",
   "pygments_lexer": "ipython3",
   "version": "3.6.5"
  }
 },
 "nbformat": 4,
 "nbformat_minor": 2
}
