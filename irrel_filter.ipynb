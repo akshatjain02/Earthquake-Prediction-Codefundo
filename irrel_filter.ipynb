{
 "cells": [
  {
   "cell_type": "code",
   "execution_count": 1,
   "metadata": {},
   "outputs": [],
   "source": [
    "import pandas as pd\n",
    "import numpy as np"
   ]
  },
  {
   "cell_type": "code",
   "execution_count": 7,
   "metadata": {},
   "outputs": [],
   "source": [
    "def irrel_filter(Data, target):\n",
    "    L=Data.shape[0]\n",
    "    MI=[]\n",
    "    cols=[]\n",
    "    targ_norm = (target-target.min())/(target.max()-target.min())\n",
    "    targ_med=targ_norm.median()\n",
    "    targ_norm_bins = (targ_norm>targ_med).astype(int)\n",
    "    for i in Data.columns:\n",
    "        temp_norm = (Data[i]-Data[i].min())/(Data[i].max()-Data[i].min())\n",
    "        med=temp_norm.median()\n",
    "        temp_norm_bins = (temp_norm>med).astype(int)\n",
    "        U = 2*temp_norm_bins+targ_norm_bins\n",
    "        U0 = U[U==0].shape[0]\n",
    "        U1 = U[U==1].shape[0]\n",
    "        U2 = U[U==2].shape[0]\n",
    "        U3 = U[U==3].shape[0]\n",
    "        \n",
    "        p_targ_0=(U0+U2)/L\n",
    "        p_targ_1=(U1+U3)/L\n",
    "        p_temp_0=(U0+U1)/L\n",
    "        p_temp_1=(U2+U3)/L\n",
    "        \n",
    "        p_targ0_temp0=U0/L\n",
    "        p_targ0_temp1=U2/L\n",
    "        p_targ1_temp0=U1/L\n",
    "        p_targ1_temp1=U3/L\n",
    "        try:\n",
    "            mi=p_targ0_temp0*np.log2(p_targ0_temp0/(p_targ_0*p_temp_0))+p_targ1_temp0*np.log2(p_targ1_temp0/(p_targ_1*p_temp_0))+p_targ0_temp1*np.log2(p_targ0_temp1/(p_targ_0*p_temp_1))+p_targ1_temp1*np.log2(p_targ1_temp1/(p_targ_1*p_temp_1))\n",
    "        except ZeroDivisionError:\n",
    "            mi=np.nan\n",
    "        if np.isnan(mi)==True:\n",
    "            mi=0\n",
    "        if mi<0.001:\n",
    "            mi=-1\n",
    "        MI.append(mi)\n",
    "        if mi==-1:\n",
    "            cols.append(i)\n",
    "    return MI, cols"
   ]
  },
  {
   "cell_type": "code",
   "execution_count": 5,
   "metadata": {},
   "outputs": [],
   "source": [
    "import pandas as pd\n",
    "Chile = pd.read_csv('Chile.csv')"
   ]
  },
  {
   "cell_type": "code",
   "execution_count": 8,
   "metadata": {},
   "outputs": [
    {
     "name": "stderr",
     "output_type": "stream",
     "text": [
      "C:\\Users\\iramaniparth\\Anaconda3\\lib\\site-packages\\ipykernel_launcher.py:28: RuntimeWarning: divide by zero encountered in log2\n",
      "C:\\Users\\iramaniparth\\Anaconda3\\lib\\site-packages\\ipykernel_launcher.py:28: RuntimeWarning: invalid value encountered in double_scalars\n"
     ]
    }
   ],
   "source": [
    "MI, irrel_cols = irrel_filter(Chile.iloc[:,:61], Chile.iloc[:,60])"
   ]
  }
 ],
 "metadata": {
  "kernelspec": {
   "display_name": "Python 3",
   "language": "python",
   "name": "python3"
  },
  "language_info": {
   "codemirror_mode": {
    "name": "ipython",
    "version": 3
   },
   "file_extension": ".py",
   "mimetype": "text/x-python",
   "name": "python",
   "nbconvert_exporter": "python",
   "pygments_lexer": "ipython3",
   "version": "3.6.5"
  }
 },
 "nbformat": 4,
 "nbformat_minor": 2
}
